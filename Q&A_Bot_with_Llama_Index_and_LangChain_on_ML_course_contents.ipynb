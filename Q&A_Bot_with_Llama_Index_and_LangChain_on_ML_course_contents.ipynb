{
  "cells": [
    {
      "cell_type": "markdown",
      "metadata": {
        "id": "view-in-github",
        "colab_type": "text"
      },
      "source": [
        "<a href=\"https://colab.research.google.com/github/navneetkrc/langchain_colab_experiments/blob/main/Q%26A_Bot_with_Llama_Index_and_LangChain_on_ML_course_contents.ipynb\" target=\"_parent\"><img src=\"https://colab.research.google.com/assets/colab-badge.svg\" alt=\"Open In Colab\"/></a>"
      ]
    },
    {
      "cell_type": "code",
      "execution_count": null,
      "metadata": {
        "id": "udFz2NpdeXRw"
      },
      "outputs": [],
      "source": [
        "!pip install llama-index\n",
        "!pip install langchain\n",
        "!pip install PyPDF2"
      ]
    },
    {
      "cell_type": "code",
      "execution_count": 2,
      "metadata": {
        "id": "nuyAKDcyea6-"
      },
      "outputs": [],
      "source": [
        "#from gpt_index import SimpleDirectoryReader, GPTListIndex, GPTSimpleVectorIndex, LLMPredictor, PromptHelper\n",
        "from langchain import OpenAI\n",
        "from llama_index import SimpleDirectoryReader, LangchainEmbedding, GPTListIndex,GPTSimpleVectorIndex, PromptHelper\n",
        "from llama_index import LLMPredictor, ServiceContext\n",
        "import sys\n",
        "#from google.colab import drive\n",
        "import os\n"
      ]
    },
    {
      "cell_type": "code",
      "source": [
        "#from google.colab import drive\n",
        "#drive.mount('/content/drive')\n",
        "\n"
      ],
      "metadata": {
        "id": "UP6P0396R0Us"
      },
      "execution_count": 3,
      "outputs": []
    },
    {
      "cell_type": "code",
      "execution_count": 4,
      "metadata": {
        "id": "j6yx6eHDia8G"
      },
      "outputs": [],
      "source": [
        "os.environ[\"OPENAI_API_KEY\"] = ''# Uncomment and provide you own apikey\n"
      ]
    },
    {
      "cell_type": "code",
      "execution_count": 5,
      "metadata": {
        "id": "MmoQ0jSRZXhj"
      },
      "outputs": [],
      "source": [
        "def construct_index(directory_path):\n",
        "  # set maximum input size\n",
        "  max_input_size = 4096\n",
        "  # set number of output tokens\n",
        "  num_outputs = 256\n",
        "  # set maximum chunk overlap\n",
        "  max_chunk_overlap = 20\n",
        "  # set chunk size limit\n",
        "  chunk_size_limit = 600\n",
        "\n",
        "  prompt_helper = PromptHelper(max_input_size, num_outputs, max_chunk_overlap, chunk_size_limit=chunk_size_limit)\n",
        "\n",
        "  # define LLM\n",
        "  llm_predictor = LLMPredictor(llm=OpenAI(temperature=0, model_name=\"text-davinci-002\", max_tokens=num_outputs))\n",
        "  \n",
        "  documents = SimpleDirectoryReader(directory_path).load_data()\n",
        "  \n",
        "  service_context = ServiceContext.from_defaults(llm_predictor=llm_predictor)\n",
        "  index = GPTSimpleVectorIndex.from_documents(documents, service_context=service_context)\n",
        "  \n",
        "  index.save_to_disk('/content/drive/MyDrive/ML/index_ml.json') # had to use gdrive to include 1 file of 75MB+ size\n",
        "  \n",
        "  return index"
      ]
    },
    {
      "cell_type": "code",
      "source": [
        "#pdfs that I have indexed and 1 more 75mb file\n",
        "!wget https://raw.githubusercontent.com/navneetkrc/Vector_search_POCs/main/index_ml.json\n",
        "!wget https://github.com/navneetkrc/Vector_search_POCs/blob/main/ML_Merged_All.pdf\n",
        "!wget https://github.com/navneetkrc/Vector_search_POCs/blob/main/ML-Prevous%20End%20term%20paper_merged.pdf\n",
        "!wget https://github.com/navneetkrc/Vector_search_POCs/blob/main/Previous%20yr%20Mid%20term%20ML%20paper-merged.pdf"
      ],
      "metadata": {
        "id": "IX1xYVSucOd9"
      },
      "execution_count": null,
      "outputs": []
    },
    {
      "cell_type": "code",
      "execution_count": 7,
      "metadata": {
        "id": "GW1tTw2VeWgS"
      },
      "outputs": [],
      "source": [
        "def ask_bot(input_index = '/content/drive/MyDrive/ML/index_ml.json'): #encoded and indexed \n",
        "  index = GPTSimpleVectorIndex.load_from_disk(input_index)\n",
        "  while True:\n",
        "    query = input('What do you want to ask the bot?   \\n')\n",
        "    response = index.query(query, response_mode=\"compact\")\n",
        "    print (\"\\nBot says: \\n\\n\" + response.response + \"\\n\\n\\n\")"
      ]
    },
    {
      "cell_type": "code",
      "execution_count": 8,
      "metadata": {
        "id": "gM00_PPYO2PB"
      },
      "outputs": [],
      "source": [
        "#index = construct_index(\"/content/drive/MyDrive/ML\") # uncomment to create new index\n",
        "\n",
        "# it has all the ML related pdfs and 1 book shared by varad as well\n",
        "\n",
        "# You can find books/pdfs here\n",
        "#https://drive.google.com/file/d/1vFIpNWyfrbLc-ce5lmClX5RsJiu-yHih/view?usp=share_link"
      ]
    },
    {
      "cell_type": "code",
      "execution_count": 9,
      "metadata": {
        "colab": {
          "base_uri": "https://localhost:8080/",
          "height": 939
        },
        "id": "wOWoWflrP2pO",
        "outputId": "dd86e0ed-4b2a-49d4-97aa-e92baf96125c"
      },
      "outputs": [
        {
          "output_type": "stream",
          "name": "stdout",
          "text": [
            "What do you want to ask the bot?   \n",
            "Use kernel trick and find the equation for hyperplane using nonlinear SVM. Positive Points: {(7,0), (9,0), (11,0)} Negative Points: {(0,0), (8,0), (12,0), (10,0)}. Plot the point before and after the transformation.\n",
            "\n",
            "Bot says: \n",
            "\n",
            "\n",
            "\n",
            "Solution:\n",
            "The kernel trick used in this case is the modulo 2 transformation, which is defined as Φ(x) = x mod 2. This transformation maps the points (7,0), (9,0), (11,0), (0,0), (8,0), (12,0), (10,0) to (1,0), (1,0), (1,0), (0,0), (0,0), (0,0), (0,0) respectively. The equation of the hyperplane is then y = 0.5.\n",
            "\n",
            "For the given dataset, the separability of the dataset is not linear. This is because the points cannot be separated by a single line. To model this dataset with an Artificial Neural Network, we can use a non-linear transformation such as a polynomial kernel. This will map the points to a higher dimensional space, where they can be separated by a hyperplane. The equation of the hyperplane is then y = 0.5.\n",
            "\n",
            "\n",
            "\n",
            "What do you want to ask the bot?   \n",
            "Let say we have a dice of 4 sides. Where { (x,P(x)) : (0,a), (1,(1-a)/3), (2,(1-a)/2), (3,(1-a)/6) }. If the tossing event is observed as (0,1,2,3,2,3,1,0) then what is the most probable value of a\n",
            "\n",
            "Bot says: \n",
            "\n",
            "\n",
            "The most probable value of a is still 0.5. The theorem provided does not change the answer to the original question.\n",
            "\n",
            "\n",
            "\n",
            "What do you want to ask the bot?   \n",
            "Consider training a boosting classifier using decision stumps on the following data set. Circle the examples which will have their weights increased at the end of each iteration. Run the iteration till zero training error is achieved.\n",
            "\n",
            "Bot says: \n",
            "\n",
            "\n",
            "\n",
            "The examples which will have their weights increased at the end of each iteration are: 0.3, 0.3, 0.3, 0.3. This is because AdaBoost assigns higher weights to the data points which were predicted incorrectly, and the error value is used to determine the weights.\n",
            "\n",
            "\n",
            "\n"
          ]
        },
        {
          "output_type": "error",
          "ename": "KeyboardInterrupt",
          "evalue": "ignored",
          "traceback": [
            "\u001b[0;31m---------------------------------------------------------------------------\u001b[0m",
            "\u001b[0;31mKeyboardInterrupt\u001b[0m                         Traceback (most recent call last)",
            "\u001b[0;32m<ipython-input-9-e2bc46f0993c>\u001b[0m in \u001b[0;36m<cell line: 1>\u001b[0;34m()\u001b[0m\n\u001b[0;32m----> 1\u001b[0;31m \u001b[0mask_bot\u001b[0m\u001b[0;34m(\u001b[0m\u001b[0;34m'index_ml.json'\u001b[0m\u001b[0;34m)\u001b[0m\u001b[0;34m\u001b[0m\u001b[0;34m\u001b[0m\u001b[0m\n\u001b[0m",
            "\u001b[0;32m<ipython-input-7-407189ab2dcf>\u001b[0m in \u001b[0;36mask_bot\u001b[0;34m(input_index)\u001b[0m\n\u001b[1;32m      2\u001b[0m   \u001b[0mindex\u001b[0m \u001b[0;34m=\u001b[0m \u001b[0mGPTSimpleVectorIndex\u001b[0m\u001b[0;34m.\u001b[0m\u001b[0mload_from_disk\u001b[0m\u001b[0;34m(\u001b[0m\u001b[0minput_index\u001b[0m\u001b[0;34m)\u001b[0m\u001b[0;34m\u001b[0m\u001b[0;34m\u001b[0m\u001b[0m\n\u001b[1;32m      3\u001b[0m   \u001b[0;32mwhile\u001b[0m \u001b[0;32mTrue\u001b[0m\u001b[0;34m:\u001b[0m\u001b[0;34m\u001b[0m\u001b[0;34m\u001b[0m\u001b[0m\n\u001b[0;32m----> 4\u001b[0;31m     \u001b[0mquery\u001b[0m \u001b[0;34m=\u001b[0m \u001b[0minput\u001b[0m\u001b[0;34m(\u001b[0m\u001b[0;34m'What do you want to ask the bot?   \\n'\u001b[0m\u001b[0;34m)\u001b[0m\u001b[0;34m\u001b[0m\u001b[0;34m\u001b[0m\u001b[0m\n\u001b[0m\u001b[1;32m      5\u001b[0m     \u001b[0mresponse\u001b[0m \u001b[0;34m=\u001b[0m \u001b[0mindex\u001b[0m\u001b[0;34m.\u001b[0m\u001b[0mquery\u001b[0m\u001b[0;34m(\u001b[0m\u001b[0mquery\u001b[0m\u001b[0;34m,\u001b[0m \u001b[0mresponse_mode\u001b[0m\u001b[0;34m=\u001b[0m\u001b[0;34m\"compact\"\u001b[0m\u001b[0;34m)\u001b[0m\u001b[0;34m\u001b[0m\u001b[0;34m\u001b[0m\u001b[0m\n\u001b[1;32m      6\u001b[0m     \u001b[0mprint\u001b[0m \u001b[0;34m(\u001b[0m\u001b[0;34m\"\\nBot says: \\n\\n\"\u001b[0m \u001b[0;34m+\u001b[0m \u001b[0mresponse\u001b[0m\u001b[0;34m.\u001b[0m\u001b[0mresponse\u001b[0m \u001b[0;34m+\u001b[0m \u001b[0;34m\"\\n\\n\\n\"\u001b[0m\u001b[0;34m)\u001b[0m\u001b[0;34m\u001b[0m\u001b[0;34m\u001b[0m\u001b[0m\n",
            "\u001b[0;32m/usr/local/lib/python3.9/dist-packages/ipykernel/kernelbase.py\u001b[0m in \u001b[0;36mraw_input\u001b[0;34m(self, prompt)\u001b[0m\n\u001b[1;32m    849\u001b[0m                 \u001b[0;34m\"raw_input was called, but this frontend does not support input requests.\"\u001b[0m\u001b[0;34m\u001b[0m\u001b[0;34m\u001b[0m\u001b[0m\n\u001b[1;32m    850\u001b[0m             )\n\u001b[0;32m--> 851\u001b[0;31m         return self._input_request(str(prompt),\n\u001b[0m\u001b[1;32m    852\u001b[0m             \u001b[0mself\u001b[0m\u001b[0;34m.\u001b[0m\u001b[0m_parent_ident\u001b[0m\u001b[0;34m,\u001b[0m\u001b[0;34m\u001b[0m\u001b[0;34m\u001b[0m\u001b[0m\n\u001b[1;32m    853\u001b[0m             \u001b[0mself\u001b[0m\u001b[0;34m.\u001b[0m\u001b[0m_parent_header\u001b[0m\u001b[0;34m,\u001b[0m\u001b[0;34m\u001b[0m\u001b[0;34m\u001b[0m\u001b[0m\n",
            "\u001b[0;32m/usr/local/lib/python3.9/dist-packages/ipykernel/kernelbase.py\u001b[0m in \u001b[0;36m_input_request\u001b[0;34m(self, prompt, ident, parent, password)\u001b[0m\n\u001b[1;32m    893\u001b[0m             \u001b[0;32mexcept\u001b[0m \u001b[0mKeyboardInterrupt\u001b[0m\u001b[0;34m:\u001b[0m\u001b[0;34m\u001b[0m\u001b[0;34m\u001b[0m\u001b[0m\n\u001b[1;32m    894\u001b[0m                 \u001b[0;31m# re-raise KeyboardInterrupt, to truncate traceback\u001b[0m\u001b[0;34m\u001b[0m\u001b[0;34m\u001b[0m\u001b[0m\n\u001b[0;32m--> 895\u001b[0;31m                 \u001b[0;32mraise\u001b[0m \u001b[0mKeyboardInterrupt\u001b[0m\u001b[0;34m(\u001b[0m\u001b[0;34m\"Interrupted by user\"\u001b[0m\u001b[0;34m)\u001b[0m \u001b[0;32mfrom\u001b[0m \u001b[0;32mNone\u001b[0m\u001b[0;34m\u001b[0m\u001b[0;34m\u001b[0m\u001b[0m\n\u001b[0m\u001b[1;32m    896\u001b[0m             \u001b[0;32mexcept\u001b[0m \u001b[0mException\u001b[0m \u001b[0;32mas\u001b[0m \u001b[0me\u001b[0m\u001b[0;34m:\u001b[0m\u001b[0;34m\u001b[0m\u001b[0;34m\u001b[0m\u001b[0m\n\u001b[1;32m    897\u001b[0m                 \u001b[0mself\u001b[0m\u001b[0;34m.\u001b[0m\u001b[0mlog\u001b[0m\u001b[0;34m.\u001b[0m\u001b[0mwarning\u001b[0m\u001b[0;34m(\u001b[0m\u001b[0;34m\"Invalid Message:\"\u001b[0m\u001b[0;34m,\u001b[0m \u001b[0mexc_info\u001b[0m\u001b[0;34m=\u001b[0m\u001b[0;32mTrue\u001b[0m\u001b[0;34m)\u001b[0m\u001b[0;34m\u001b[0m\u001b[0;34m\u001b[0m\u001b[0m\n",
            "\u001b[0;31mKeyboardInterrupt\u001b[0m: Interrupted by user"
          ]
        }
      ],
      "source": [
        "ask_bot('index_ml.json')"
      ]
    },
    {
      "cell_type": "code",
      "source": [],
      "metadata": {
        "id": "7iIWhkibltL1"
      },
      "execution_count": null,
      "outputs": []
    },
    {
      "cell_type": "markdown",
      "source": [
        "** What do you want to ask the bot? **  \n",
        "Use kernel trick and find the equation for hyperplane using nonlinear SVM. Positive Points: {(7,0), (9,0), (11,0)} Negative Points: {(0,0), (8,0), (12,0), (10,0)}. Plot the point before and after the transformation.\n",
        "\n",
        "Bot says: \n",
        "\n",
        "\n",
        "\n",
        "Solution:\n",
        "The kernel trick used in this case is the modulo 2 transformation, which is defined as Φ(x) = x mod 2. This transformation maps the points (7,0), (9,0), (11,0), (0,0), (8,0), (12,0), (10,0) to (1,0), (1,0), (1,0), (0,0), (0,0), (0,0), (0,0) respectively. The equation of the hyperplane is then y = 0.5.\n",
        "\n",
        "For the given dataset, the separability of the dataset is not linear. This is because the points cannot be separated by a single line. To model this dataset with an Artificial Neural Network, we can use a non-linear transformation such as a polynomial kernel. This will map the points to a higher dimensional space, where they can be separated by a hyperplane. The equation of the hyperplane is then y = 0.5.\n",
        "\n",
        "\n",
        "\n",
        "** What do you want to ask the bot?  ** \n",
        "Let say we have a dice of 4 sides. Where { (x,P(x)) : (0,a), (1,(1-a)/3), (2,(1-a)/2), (3,(1-a)/6) }. If the tossing event is observed as (0,1,2,3,2,3,1,0) then what is the most probable value of a\n",
        "\n",
        "Bot says: \n",
        "\n",
        "\n",
        "The most probable value of a is still 0.5. The theorem provided does not change the answer to the original question.\n",
        "\n",
        "\n",
        "\n",
        "** What do you want to ask the bot?  ** \n",
        "Consider training a boosting classifier using decision stumps on the following data set. Circle the examples which will have their weights increased at the end of each iteration. Run the iteration till zero training error is achieved.\n",
        "\n",
        "Bot says: \n",
        "\n",
        "\n",
        "\n",
        "The examples which will have their weights increased at the end of each iteration are: 0.3, 0.3, 0.3, 0.3. This is because AdaBoost assigns higher weights to the data points which were predicted incorrectly, and the error value is used to determine the weights.\n"
      ],
      "metadata": {
        "id": "jYlRO_p0ltpH"
      }
    },
    {
      "cell_type": "code",
      "execution_count": null,
      "metadata": {
        "id": "OxfT37qTQVOx"
      },
      "outputs": [],
      "source": []
    }
  ],
  "metadata": {
    "colab": {
      "provenance": [],
      "include_colab_link": true
    },
    "kernelspec": {
      "display_name": "Python 3",
      "name": "python3"
    },
    "language_info": {
      "name": "python"
    }
  },
  "nbformat": 4,
  "nbformat_minor": 0
}