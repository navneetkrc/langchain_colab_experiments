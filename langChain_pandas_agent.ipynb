{
  "nbformat": 4,
  "nbformat_minor": 0,
  "metadata": {
    "colab": {
      "provenance": [],
      "include_colab_link": true
    },
    "kernelspec": {
      "name": "python3",
      "display_name": "Python 3"
    },
    "language_info": {
      "name": "python"
    }
  },
  "cells": [
    {
      "cell_type": "markdown",
      "metadata": {
        "id": "view-in-github",
        "colab_type": "text"
      },
      "source": [
        "<a href=\"https://colab.research.google.com/github/navneetkrc/langchain_colab_experiments/blob/main/langChain_pandas_agent.ipynb\" target=\"_parent\"><img src=\"https://colab.research.google.com/assets/colab-badge.svg\" alt=\"Open In Colab\"/></a>"
      ]
    },
    {
      "cell_type": "code",
      "source": [
        "!pip install langchain -q"
      ],
      "metadata": {
        "id": "7XEY_qVZPAvv"
      },
      "execution_count": 2,
      "outputs": []
    },
    {
      "cell_type": "code",
      "execution_count": 3,
      "metadata": {
        "id": "MNjwx-WtLUN7"
      },
      "outputs": [],
      "source": [
        "import os\n",
        "\n",
        "import pandas as pd\n",
        "from langchain.agents import create_pandas_dataframe_agent\n",
        "from langchain.llms import OpenAI\n",
        "#"
      ]
    },
    {
      "cell_type": "code",
      "source": [
        "#os.environ[\"OPENAI_API_KEY\"] = # Uncomment and provide you own apikey"
      ],
      "metadata": {
        "id": "zvFkSnIyKFLe"
      },
      "execution_count": 7,
      "outputs": []
    },
    {
      "cell_type": "code",
      "source": [
        "!wget https://raw.githubusercontent.com/navneetkrc/langchain_colab_experiments/main/package-manifest.csv\n",
        "df = pd.read_csv(\"/content/package-manifest.csv\")\n",
        "df.head()"
      ],
      "metadata": {
        "id": "LdXj_ofPLtVh",
        "outputId": "3d665de1-b8f2-40c5-909a-f85663df0f12",
        "colab": {
          "base_uri": "https://localhost:8080/",
          "height": 397
        }
      },
      "execution_count": 11,
      "outputs": [
        {
          "output_type": "stream",
          "name": "stdout",
          "text": [
            "--2023-04-15 18:25:53--  https://raw.githubusercontent.com/navneetkrc/langchain_colab_experiments/main/package-manifest.csv\n",
            "Resolving raw.githubusercontent.com (raw.githubusercontent.com)... 185.199.110.133, 185.199.108.133, 185.199.109.133, ...\n",
            "Connecting to raw.githubusercontent.com (raw.githubusercontent.com)|185.199.110.133|:443... connected.\n",
            "HTTP request sent, awaiting response... 200 OK\n",
            "Length: 51822 (51K) [text/plain]\n",
            "Saving to: ‘package-manifest.csv.1’\n",
            "\n",
            "package-manifest.cs 100%[===================>]  50.61K  --.-KB/s    in 0.01s   \n",
            "\n",
            "2023-04-15 18:25:54 (3.89 MB/s) - ‘package-manifest.csv.1’ saved [51822/51822]\n",
            "\n"
          ]
        },
        {
          "output_type": "execute_result",
          "data": {
            "text/plain": [
              "  package_name version                                            summary  \\\n",
              "0        Babel   2.7.0                     Internationalization utilities   \n",
              "1        Baker     1.3  Easy, powerful access to Python functions from...   \n",
              "2       Boruta     0.3  Python Implementation of Boruta Feature Selection   \n",
              "3   Bottleneck   1.2.1            Fast NumPy array functions written in C   \n",
              "4     CVXcanon   0.1.1  A low-level library to perform the matrix buil...   \n",
              "\n",
              "          license metadata_source  \n",
              "0             BSD            PyPI  \n",
              "1      Apache 2.0            PyPI  \n",
              "2    BSD 3 clause            PyPI  \n",
              "3  Simplified BSD            PyPI  \n",
              "4           GPLv3            PyPI  "
            ],
            "text/html": [
              "\n",
              "  <div id=\"df-1256362d-29d3-43d4-ad4d-ff11463a8c47\">\n",
              "    <div class=\"colab-df-container\">\n",
              "      <div>\n",
              "<style scoped>\n",
              "    .dataframe tbody tr th:only-of-type {\n",
              "        vertical-align: middle;\n",
              "    }\n",
              "\n",
              "    .dataframe tbody tr th {\n",
              "        vertical-align: top;\n",
              "    }\n",
              "\n",
              "    .dataframe thead th {\n",
              "        text-align: right;\n",
              "    }\n",
              "</style>\n",
              "<table border=\"1\" class=\"dataframe\">\n",
              "  <thead>\n",
              "    <tr style=\"text-align: right;\">\n",
              "      <th></th>\n",
              "      <th>package_name</th>\n",
              "      <th>version</th>\n",
              "      <th>summary</th>\n",
              "      <th>license</th>\n",
              "      <th>metadata_source</th>\n",
              "    </tr>\n",
              "  </thead>\n",
              "  <tbody>\n",
              "    <tr>\n",
              "      <th>0</th>\n",
              "      <td>Babel</td>\n",
              "      <td>2.7.0</td>\n",
              "      <td>Internationalization utilities</td>\n",
              "      <td>BSD</td>\n",
              "      <td>PyPI</td>\n",
              "    </tr>\n",
              "    <tr>\n",
              "      <th>1</th>\n",
              "      <td>Baker</td>\n",
              "      <td>1.3</td>\n",
              "      <td>Easy, powerful access to Python functions from...</td>\n",
              "      <td>Apache 2.0</td>\n",
              "      <td>PyPI</td>\n",
              "    </tr>\n",
              "    <tr>\n",
              "      <th>2</th>\n",
              "      <td>Boruta</td>\n",
              "      <td>0.3</td>\n",
              "      <td>Python Implementation of Boruta Feature Selection</td>\n",
              "      <td>BSD 3 clause</td>\n",
              "      <td>PyPI</td>\n",
              "    </tr>\n",
              "    <tr>\n",
              "      <th>3</th>\n",
              "      <td>Bottleneck</td>\n",
              "      <td>1.2.1</td>\n",
              "      <td>Fast NumPy array functions written in C</td>\n",
              "      <td>Simplified BSD</td>\n",
              "      <td>PyPI</td>\n",
              "    </tr>\n",
              "    <tr>\n",
              "      <th>4</th>\n",
              "      <td>CVXcanon</td>\n",
              "      <td>0.1.1</td>\n",
              "      <td>A low-level library to perform the matrix buil...</td>\n",
              "      <td>GPLv3</td>\n",
              "      <td>PyPI</td>\n",
              "    </tr>\n",
              "  </tbody>\n",
              "</table>\n",
              "</div>\n",
              "      <button class=\"colab-df-convert\" onclick=\"convertToInteractive('df-1256362d-29d3-43d4-ad4d-ff11463a8c47')\"\n",
              "              title=\"Convert this dataframe to an interactive table.\"\n",
              "              style=\"display:none;\">\n",
              "        \n",
              "  <svg xmlns=\"http://www.w3.org/2000/svg\" height=\"24px\"viewBox=\"0 0 24 24\"\n",
              "       width=\"24px\">\n",
              "    <path d=\"M0 0h24v24H0V0z\" fill=\"none\"/>\n",
              "    <path d=\"M18.56 5.44l.94 2.06.94-2.06 2.06-.94-2.06-.94-.94-2.06-.94 2.06-2.06.94zm-11 1L8.5 8.5l.94-2.06 2.06-.94-2.06-.94L8.5 2.5l-.94 2.06-2.06.94zm10 10l.94 2.06.94-2.06 2.06-.94-2.06-.94-.94-2.06-.94 2.06-2.06.94z\"/><path d=\"M17.41 7.96l-1.37-1.37c-.4-.4-.92-.59-1.43-.59-.52 0-1.04.2-1.43.59L10.3 9.45l-7.72 7.72c-.78.78-.78 2.05 0 2.83L4 21.41c.39.39.9.59 1.41.59.51 0 1.02-.2 1.41-.59l7.78-7.78 2.81-2.81c.8-.78.8-2.07 0-2.86zM5.41 20L4 18.59l7.72-7.72 1.47 1.35L5.41 20z\"/>\n",
              "  </svg>\n",
              "      </button>\n",
              "      \n",
              "  <style>\n",
              "    .colab-df-container {\n",
              "      display:flex;\n",
              "      flex-wrap:wrap;\n",
              "      gap: 12px;\n",
              "    }\n",
              "\n",
              "    .colab-df-convert {\n",
              "      background-color: #E8F0FE;\n",
              "      border: none;\n",
              "      border-radius: 50%;\n",
              "      cursor: pointer;\n",
              "      display: none;\n",
              "      fill: #1967D2;\n",
              "      height: 32px;\n",
              "      padding: 0 0 0 0;\n",
              "      width: 32px;\n",
              "    }\n",
              "\n",
              "    .colab-df-convert:hover {\n",
              "      background-color: #E2EBFA;\n",
              "      box-shadow: 0px 1px 2px rgba(60, 64, 67, 0.3), 0px 1px 3px 1px rgba(60, 64, 67, 0.15);\n",
              "      fill: #174EA6;\n",
              "    }\n",
              "\n",
              "    [theme=dark] .colab-df-convert {\n",
              "      background-color: #3B4455;\n",
              "      fill: #D2E3FC;\n",
              "    }\n",
              "\n",
              "    [theme=dark] .colab-df-convert:hover {\n",
              "      background-color: #434B5C;\n",
              "      box-shadow: 0px 1px 3px 1px rgba(0, 0, 0, 0.15);\n",
              "      filter: drop-shadow(0px 1px 2px rgba(0, 0, 0, 0.3));\n",
              "      fill: #FFFFFF;\n",
              "    }\n",
              "  </style>\n",
              "\n",
              "      <script>\n",
              "        const buttonEl =\n",
              "          document.querySelector('#df-1256362d-29d3-43d4-ad4d-ff11463a8c47 button.colab-df-convert');\n",
              "        buttonEl.style.display =\n",
              "          google.colab.kernel.accessAllowed ? 'block' : 'none';\n",
              "\n",
              "        async function convertToInteractive(key) {\n",
              "          const element = document.querySelector('#df-1256362d-29d3-43d4-ad4d-ff11463a8c47');\n",
              "          const dataTable =\n",
              "            await google.colab.kernel.invokeFunction('convertToInteractive',\n",
              "                                                     [key], {});\n",
              "          if (!dataTable) return;\n",
              "\n",
              "          const docLinkHtml = 'Like what you see? Visit the ' +\n",
              "            '<a target=\"_blank\" href=https://colab.research.google.com/notebooks/data_table.ipynb>data table notebook</a>'\n",
              "            + ' to learn more about interactive tables.';\n",
              "          element.innerHTML = '';\n",
              "          dataTable['output_type'] = 'display_data';\n",
              "          await google.colab.output.renderOutput(dataTable, element);\n",
              "          const docLink = document.createElement('div');\n",
              "          docLink.innerHTML = docLinkHtml;\n",
              "          element.appendChild(docLink);\n",
              "        }\n",
              "      </script>\n",
              "    </div>\n",
              "  </div>\n",
              "  "
            ]
          },
          "metadata": {},
          "execution_count": 11
        }
      ]
    },
    {
      "cell_type": "code",
      "source": [
        "agent = create_pandas_dataframe_agent(OpenAI(temperature=0), df, verbose=True)"
      ],
      "metadata": {
        "id": "_CKCD9mLL1lv"
      },
      "execution_count": 8,
      "outputs": []
    },
    {
      "cell_type": "code",
      "source": [
        "agent.run(\"what are the best packages for data visualization?\")"
      ],
      "metadata": {
        "colab": {
          "base_uri": "https://localhost:8080/",
          "height": 642
        },
        "id": "4IT-G0IiMaU8",
        "outputId": "98183627-8d42-4eb0-dca0-c53edfb23099"
      },
      "execution_count": 10,
      "outputs": [
        {
          "output_type": "stream",
          "name": "stdout",
          "text": [
            "\n",
            "\n",
            "\u001b[1m> Entering new AgentExecutor chain...\u001b[0m\n",
            "\u001b[32;1m\u001b[1;3mThought: I need to find packages that are related to data visualization\n",
            "Action: python_repl_ast\n",
            "Action Input: df[df['summary'].str.contains('visualization')]\u001b[0m\n",
            "Observation: \u001b[36;1m\u001b[1;3mCannot mask with non-boolean array containing NA / NaN values\u001b[0m\n",
            "Thought:\u001b[32;1m\u001b[1;3m I need to filter out the NA/NaN values\n",
            "Action: python_repl_ast\n",
            "Action Input: df[df['summary'].str.contains('visualization', na=False)]\u001b[0m\n",
            "Observation: \u001b[36;1m\u001b[1;3m    package_name version                                            summary  \\\n",
            "62        altair   3.2.0  Altair: A declarative statistical visualizatio...   \n",
            "145   datashader   0.7.0  Data visualization toolchain based on aggregat...   \n",
            "224     graphviz   0.8.4          Open Source graph visualization software.   \n",
            "317    missingno   0.4.2      Missing data visualization module for Python.   \n",
            "425     pyLDAvis   2.1.2  Interactive topic model visualization. Port of...   \n",
            "519      seaborn   0.9.0                     Statistical data visualization   \n",
            "604         vida     0.3        Python binding for Vida data visualizations   \n",
            "605       visvis  1.11.2  An object oriented approach to visualization o...   \n",
            "607          vtk   8.1.2  VTK is an open-source toolkit for 3D computer ...   \n",
            "\n",
            "          license metadata_source  \n",
            "62   BSD 3-clause            PyPI  \n",
            "145  BSD-3-Clause        Anaconda  \n",
            "224      EPL v1.0        Anaconda  \n",
            "317           NaN            PyPI  \n",
            "425           MIT            PyPI  \n",
            "519  BSD 3-Clause        Anaconda  \n",
            "604       UNKNOWN            PyPI  \n",
            "605  BSD 3-Clause        Anaconda  \n",
            "607           BSD            PyPI  \u001b[0m\n",
            "Thought:\u001b[32;1m\u001b[1;3m I now know the best packages for data visualization\n",
            "Final Answer: altair, datashader, graphviz, missingno, pyLDAvis, seaborn, vida, visvis, and vtk.\u001b[0m\n",
            "\n",
            "\u001b[1m> Finished chain.\u001b[0m\n"
          ]
        },
        {
          "output_type": "execute_result",
          "data": {
            "text/plain": [
              "'altair, datashader, graphviz, missingno, pyLDAvis, seaborn, vida, visvis, and vtk.'"
            ],
            "application/vnd.google.colaboratory.intrinsic+json": {
              "type": "string"
            }
          },
          "metadata": {},
          "execution_count": 10
        }
      ]
    },
    {
      "cell_type": "code",
      "source": [
        "agent.run(\"what are the best packages for web scraping?\")"
      ],
      "metadata": {
        "id": "3Fg6GOEHKK1G",
        "outputId": "30e6e0b7-c73a-4121-cfc7-237a4e5a0d98",
        "colab": {
          "base_uri": "https://localhost:8080/",
          "height": 573
        }
      },
      "execution_count": 12,
      "outputs": [
        {
          "output_type": "stream",
          "name": "stdout",
          "text": [
            "\n",
            "\n",
            "\u001b[1m> Entering new AgentExecutor chain...\u001b[0m\n",
            "\u001b[32;1m\u001b[1;3mThought: I need to find packages related to web scraping\n",
            "Action: python_repl_ast\n",
            "Action Input: df[df['summary'].str.contains('web scraping', case=False)]\u001b[0m\n",
            "Observation: \u001b[36;1m\u001b[1;3mCannot mask with non-boolean array containing NA / NaN values\u001b[0m\n",
            "Thought:\u001b[32;1m\u001b[1;3m I need to remove NA/NaN values\n",
            "Action: python_repl_ast\n",
            "Action Input: df[df['summary'].str.contains('web scraping', case=False)].dropna()\u001b[0m\n",
            "Observation: \u001b[36;1m\u001b[1;3mCannot mask with non-boolean array containing NA / NaN values\u001b[0m\n",
            "Thought:\u001b[32;1m\u001b[1;3m I need to find packages related to web scraping\n",
            "Action: python_repl_ast\n",
            "Action Input: df[df['summary'].str.contains('web scraping', case=False)].dropna()['package_name']\u001b[0m\n",
            "Observation: \u001b[36;1m\u001b[1;3mCannot mask with non-boolean array containing NA / NaN values\u001b[0m\n",
            "Thought:\u001b[32;1m\u001b[1;3m I need to find packages related to web scraping\n",
            "Action: python_repl_ast\n",
            "Action Input: df[df['summary'].str.contains('web scraping', case=False)].dropna()['package_name'].values\u001b[0m\n",
            "Observation: \u001b[36;1m\u001b[1;3mCannot mask with non-boolean array containing NA / NaN values\u001b[0m\n",
            "Thought:\u001b[32;1m\u001b[1;3m I need to find packages related to web scraping\n",
            "Action: python_repl_ast\n",
            "Action Input: df[df['summary'].str.contains('web scraping', case=False)].dropna()['package_name'].values.tolist()\u001b[0m\n",
            "Observation: \u001b[36;1m\u001b[1;3mCannot mask with non-boolean array containing NA / NaN values\u001b[0m\n",
            "Thought:\u001b[32;1m\u001b[1;3m I need to find packages related to web scraping\n",
            "Action: python_repl_ast\n",
            "Action Input: df[df['summary'].str.contains('web scraping', na=False)].dropna()['package_name'].values.tolist()\u001b[0m\n",
            "Observation: \u001b[36;1m\u001b[1;3m[]\u001b[0m\n",
            "Thought:\u001b[32;1m\u001b[1;3m There are no packages related to web scraping in this dataframe\n",
            "Final Answer: There are no packages related to web scraping in this dataframe.\u001b[0m\n",
            "\n",
            "\u001b[1m> Finished chain.\u001b[0m\n"
          ]
        },
        {
          "output_type": "execute_result",
          "data": {
            "text/plain": [
              "'There are no packages related to web scraping in this dataframe.'"
            ],
            "application/vnd.google.colaboratory.intrinsic+json": {
              "type": "string"
            }
          },
          "metadata": {},
          "execution_count": 12
        }
      ]
    },
    {
      "cell_type": "code",
      "source": [],
      "metadata": {
        "id": "KkQg36fWK0S0"
      },
      "execution_count": null,
      "outputs": []
    }
  ]
}