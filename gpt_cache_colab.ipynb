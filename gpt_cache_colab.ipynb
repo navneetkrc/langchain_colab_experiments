{
  "cells": [
    {
      "cell_type": "markdown",
      "metadata": {
        "id": "view-in-github",
        "colab_type": "text"
      },
      "source": [
        "<a href=\"https://colab.research.google.com/github/navneetkrc/langchain_colab_experiments/blob/main/gpt_cache_colab.ipynb\" target=\"_parent\"><img src=\"https://colab.research.google.com/assets/colab-badge.svg\" alt=\"Open In Colab\"/></a>"
      ]
    },
    {
      "cell_type": "markdown",
      "id": "6b3ba1cc",
      "metadata": {
        "id": "6b3ba1cc"
      },
      "source": [
        "# Chat\n",
        "\n",
        "[This example](https://gptcache.readthedocs.io/en/latest/bootcamp/openai/chat.html) will show you how to chat with GPT, the original example is on [OpenAI Example](https://platform.openai.com/docs/guides/chat/introduction), the difference is that we will teach you how to cache the  response for exact and similar matches with **gptcache**, it will be very simple, you just need to add an extra step to initialize the cache.\n"
      ]
    },
    {
      "cell_type": "code",
      "source": [
        "!pip install -q gptcache\n",
        "!pip install openai"
      ],
      "metadata": {
        "id": "4aAjAIFCzny5"
      },
      "id": "4aAjAIFCzny5",
      "execution_count": null,
      "outputs": []
    },
    {
      "cell_type": "markdown",
      "source": [
        "Before running the example, make sure the `OPENAI_API_KEY` environment variable is set by executing `echo $OPENAI_API_KEY`. If it is not already set, it can be set by using `export OPENAI_API_KEY=YOUR_API_KEY` on Unix/Linux/MacOS systems or `set OPENAI_API_KEY=YOUR_API_KEY` on Windows systems.\n",
        "\n",
        "> We can run `os.environ` to set the environment variable in colab."
      ],
      "metadata": {
        "id": "WxCz_TiwzwbO"
      },
      "id": "WxCz_TiwzwbO"
    },
    {
      "cell_type": "code",
      "source": [
        "import os\n",
        "os.environ[\"OPENAI_API_KEY\"] = \"YOUR_API_KEY\""
      ],
      "metadata": {
        "id": "6x1GVChYy-pC"
      },
      "id": "6x1GVChYy-pC",
      "execution_count": 4,
      "outputs": []
    },
    {
      "cell_type": "markdown",
      "source": [
        "Then we can learn the usage and acceleration effect of gptcache by the following code, which consists of three parts, the original openai way, the exact search and the similar search.\n"
      ],
      "metadata": {
        "id": "_hzEQ9T90AOO"
      },
      "id": "_hzEQ9T90AOO"
    },
    {
      "cell_type": "markdown",
      "id": "aa0ba70e",
      "metadata": {
        "id": "aa0ba70e"
      },
      "source": [
        "## OpenAI API original usage"
      ]
    },
    {
      "cell_type": "code",
      "execution_count": 7,
      "id": "80e9dae2",
      "metadata": {
        "colab": {
          "base_uri": "https://localhost:8080/"
        },
        "id": "80e9dae2",
        "outputId": "425b15f7-3d59-4930-948c-da078e824b63"
      },
      "outputs": [
        {
          "output_type": "stream",
          "name": "stdout",
          "text": [
            "Question: what‘s github?\n",
            "Time consuming: 6.96s\n",
            "Answer: GitHub is a web-based platform that allows developers to collaborate on software development projects. It is a repository hosting service which provides version control, issue tracking, collaborative coding, and other features for free or at a cost. GitHub provides a platform for developers to store and manage their code, to track and manage changes to code, and to collaborate on coding projects with other developers. It is widely used in the open-source community and by companies for internal development projects. GitHub is also home to a vast library of open-source software that anyone can download, use, and contribute to.\n",
            "\n"
          ]
        }
      ],
      "source": [
        "import time\n",
        "import openai\n",
        "\n",
        "\n",
        "def response_text(openai_resp):\n",
        "    return openai_resp['choices'][0]['message']['content']\n",
        "\n",
        "\n",
        "question = 'what‘s github?'\n",
        "\n",
        "# OpenAI API original usage\n",
        "start_time = time.time()\n",
        "response = openai.ChatCompletion.create(\n",
        "  model='gpt-3.5-turbo',\n",
        "  messages=[\n",
        "    {\n",
        "        'role': 'user',\n",
        "        'content': question\n",
        "    }\n",
        "  ],\n",
        ")\n",
        "print(f'Question: {question}')\n",
        "print(\"Time consuming: {:.2f}s\".format(time.time() - start_time))\n",
        "print(f'Answer: {response_text(response)}\\n')"
      ]
    },
    {
      "cell_type": "markdown",
      "id": "9d871550",
      "metadata": {
        "id": "9d871550"
      },
      "source": [
        "## OpenAI API + GPTCache, exact match cache\n",
        "\n",
        "Initalize the cache to run GPTCache and import `openai` form `gptcache.adapter`, which will automatically set the map data manager to match the exact cahe, more details refer to [build your cache](https://gptcache.readthedocs.io/en/dev/usage.html#build-your-cache).\n",
        "\n",
        "And if you ask ChatGPT the exact same two questions, the answer to the second question will be obtained from the cache without requesting ChatGPT again."
      ]
    },
    {
      "cell_type": "code",
      "execution_count": 8,
      "id": "024484f3",
      "metadata": {
        "colab": {
          "base_uri": "https://localhost:8080/"
        },
        "id": "024484f3",
        "outputId": "82a4f39d-ef7e-4dad-8ca0-7ed1e227c375"
      },
      "outputs": [
        {
          "output_type": "stream",
          "name": "stdout",
          "text": [
            "Cache loading.....\n",
            "Question: what's github\n",
            "Time consuming: 5.06s\n",
            "Answer: GitHub is a web-based platform that is designed for hosting and collaborating on software development projects using version control. It allows users to store their code in repositories and collaborate with other developers on projects. GitHub also offers a variety of tools and services for project management, like issue tracking, code review, and continuous integration. It is used by developers worldwide for open source and private projects, whether as a team or an individual developer.\n",
            "\n",
            "Question: what's github\n",
            "Time consuming: 6.25s\n",
            "Answer: GitHub is a web-based platform that is designed for hosting and collaborating on software development projects using version control. It allows users to store their code in repositories and collaborate with other developers on projects. GitHub also offers a variety of tools and services for project management, like issue tracking, code review, and continuous integration. It is used by developers worldwide for open source and private projects, whether as a team or an individual developer.\n",
            "\n"
          ]
        }
      ],
      "source": [
        "import time\n",
        "\n",
        "\n",
        "def response_text(openai_resp):\n",
        "    return openai_resp['choices'][0]['message']['content']\n",
        "\n",
        "print(\"Cache loading.....\")\n",
        "\n",
        "# To use GPTCache, that's all you need\n",
        "# -------------------------------------------------\n",
        "from gptcache import cache\n",
        "from gptcache.adapter import openai\n",
        "\n",
        "cache.init()\n",
        "cache.set_openai_key()\n",
        "# -------------------------------------------------\n",
        "\n",
        "question = \"what's github\"\n",
        "for _ in range(2):\n",
        "    start_time = time.time()\n",
        "    response = openai.ChatCompletion.create(\n",
        "      model='gpt-3.5-turbo',\n",
        "      messages=[\n",
        "        {\n",
        "            'role': 'user',\n",
        "            'content': question\n",
        "        }\n",
        "      ],\n",
        "    )\n",
        "    print(f'Question: {question}')\n",
        "    print(\"Time consuming: {:.2f}s\".format(time.time() - start_time))\n",
        "    print(f'Answer: {response_text(response)}\\n')"
      ]
    },
    {
      "cell_type": "markdown",
      "id": "6f2ff699",
      "metadata": {
        "id": "6f2ff699"
      },
      "source": [
        "## OpenAI API + GPTCache, similar search cache\n",
        "\n",
        "Set the cache with `embedding_func` to generate embedding for the text, and `data_manager` to manager the cache data, `similarity_evaluation` to evaluate the similarities, more details refer to [build your cache](https://gptcache.readthedocs.io/en/dev/usage.html#build-your-cache).\n",
        "\n",
        "After obtaining an answer from ChatGPT in response to several similar questions, the answers to subsequent questions can be retrieved from the cache without the need to request ChatGPT again."
      ]
    },
    {
      "cell_type": "code",
      "execution_count": 10,
      "id": "fd1ff06e",
      "metadata": {
        "colab": {
          "base_uri": "https://localhost:8080/"
        },
        "id": "fd1ff06e",
        "outputId": "644b0961-ac73-4399-e2f1-be2cdae0f4fc"
      },
      "outputs": [
        {
          "output_type": "stream",
          "name": "stdout",
          "text": [
            "Cache loading.....\n",
            "Question: what's github\n",
            "Time consuming: 8.48s\n",
            "Answer: GitHub is a platform for software developers to collaborate, share, and work on open-source code. It provides a web-based interface for version control and facilitates collaboration among developers. Using GitHub, developers can share and contribute to open-source projects, track issues, and merge code changes from multiple contributors. Additionally, GitHub provides a range of tools for project management, documentation, and code review. It has become one of the most popular platforms for open-source development due to its ease of use and extensive community support.\n",
            "\n",
            "Question: can you explain what GitHub is\n",
            "Time consuming: 0.75s\n",
            "Answer: GitHub is a platform for software developers to collaborate, share, and work on open-source code. It provides a web-based interface for version control and facilitates collaboration among developers. Using GitHub, developers can share and contribute to open-source projects, track issues, and merge code changes from multiple contributors. Additionally, GitHub provides a range of tools for project management, documentation, and code review. It has become one of the most popular platforms for open-source development due to its ease of use and extensive community support.\n",
            "\n",
            "Question: can you tell me more about GitHub\n",
            "Time consuming: 0.73s\n",
            "Answer: GitHub is a platform for software developers to collaborate, share, and work on open-source code. It provides a web-based interface for version control and facilitates collaboration among developers. Using GitHub, developers can share and contribute to open-source projects, track issues, and merge code changes from multiple contributors. Additionally, GitHub provides a range of tools for project management, documentation, and code review. It has become one of the most popular platforms for open-source development due to its ease of use and extensive community support.\n",
            "\n",
            "Question: what is the purpose of GitHub\n",
            "Time consuming: 0.72s\n",
            "Answer: GitHub is a platform for software developers to collaborate, share, and work on open-source code. It provides a web-based interface for version control and facilitates collaboration among developers. Using GitHub, developers can share and contribute to open-source projects, track issues, and merge code changes from multiple contributors. Additionally, GitHub provides a range of tools for project management, documentation, and code review. It has become one of the most popular platforms for open-source development due to its ease of use and extensive community support.\n",
            "\n"
          ]
        }
      ],
      "source": [
        "import time\n",
        "\n",
        "\n",
        "def response_text(openai_resp):\n",
        "    return openai_resp['choices'][0]['message']['content']\n",
        "\n",
        "from gptcache import cache\n",
        "from gptcache.adapter import openai\n",
        "from gptcache.embedding import Onnx\n",
        "from gptcache.manager import CacheBase, VectorBase, get_data_manager\n",
        "from gptcache.similarity_evaluation.distance import SearchDistanceEvaluation\n",
        "\n",
        "print(\"Cache loading.....\")\n",
        "\n",
        "onnx = Onnx()\n",
        "data_manager = get_data_manager(CacheBase(\"sqlite\"), VectorBase(\"faiss\", dimension=onnx.dimension))\n",
        "cache.init(\n",
        "    embedding_func=onnx.to_embeddings,\n",
        "    data_manager=data_manager,\n",
        "    similarity_evaluation=SearchDistanceEvaluation(),\n",
        "    )\n",
        "cache.set_openai_key()\n",
        "\n",
        "questions = [\n",
        "    \"what's github\",\n",
        "    \"can you explain what GitHub is\",\n",
        "    \"can you tell me more about GitHub\",\n",
        "    \"what is the purpose of GitHub\"\n",
        "]\n",
        "\n",
        "for question in questions:\n",
        "    start_time = time.time()\n",
        "    response = openai.ChatCompletion.create(\n",
        "        model='gpt-3.5-turbo',\n",
        "        messages=[\n",
        "            {\n",
        "                'role': 'user',\n",
        "                'content': question\n",
        "            }\n",
        "        ],\n",
        "    )\n",
        "    print(f'Question: {question}')\n",
        "    print(\"Time consuming: {:.2f}s\".format(time.time() - start_time))\n",
        "    print(f'Answer: {response_text(response)}\\n')"
      ]
    },
    {
      "cell_type": "code",
      "execution_count": 9,
      "id": "07d92eae",
      "metadata": {
        "id": "07d92eae"
      },
      "outputs": [],
      "source": []
    }
  ],
  "metadata": {
    "kernelspec": {
      "display_name": "Python 3 (ipykernel)",
      "language": "python",
      "name": "python3"
    },
    "language_info": {
      "codemirror_mode": {
        "name": "ipython",
        "version": 3
      },
      "file_extension": ".py",
      "mimetype": "text/x-python",
      "name": "python",
      "nbconvert_exporter": "python",
      "pygments_lexer": "ipython3",
      "version": "3.9.12"
    },
    "colab": {
      "provenance": [],
      "include_colab_link": true
    }
  },
  "nbformat": 4,
  "nbformat_minor": 5
}